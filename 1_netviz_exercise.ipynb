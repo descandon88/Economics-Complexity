{
  "nbformat": 4,
  "nbformat_minor": 0,
  "metadata": {
    "colab": {
      "name": "1_netviz_exercise.ipynb",
      "provenance": [],
      "collapsed_sections": [],
      "include_colab_link": true
    },
    "kernelspec": {
      "name": "python3",
      "display_name": "Python 3"
    },
    "language_info": {
      "name": "python"
    }
  },
  "cells": [
    {
      "cell_type": "markdown",
      "metadata": {
        "id": "view-in-github",
        "colab_type": "text"
      },
      "source": [
        "<a href=\"https://colab.research.google.com/github/descandon88/Economics-Complexity/blob/main/1_netviz_exercise.ipynb\" target=\"_parent\"><img src=\"https://colab.research.google.com/assets/colab-badge.svg\" alt=\"Open In Colab\"/></a>"
      ]
    },
    {
      "cell_type": "markdown",
      "metadata": {
        "id": "gncbtdhZjc7t"
      },
      "source": [
        "# 1. Visualize the space as a network"
      ]
    },
    {
      "cell_type": "markdown",
      "metadata": {
        "id": "8ZedatGgibFc"
      },
      "source": [
        "In this section, we will practice how to visualize the X-spaces with tradtional network-based method.\n",
        "\n",
        "The sections are organized according to our viz-pipeline:\n",
        "- Data collection and metric calculation (load previous results)\n",
        "- Extract the informative part of relation: mst + high proximity\n",
        "- Layout generation: force-layout\n",
        "- cluster generation: community detection\n",
        "- Aesthetic mapping: desired property -> visual elements\n",
        "  - Whole network\n",
        "  - Portfolio\n",
        "\n",
        "\n"
      ]
    },
    {
      "cell_type": "markdown",
      "metadata": {
        "id": "O2T6LDVVXCPQ"
      },
      "source": [
        "Colab already provided basic packages needed for the task, such as numpy,scipy,pandas,networkx and matplotlib. Here we install two more packages: fa2 for network layout generation and python-louvain for community detection."
      ]
    },
    {
      "cell_type": "code",
      "metadata": {
        "id": "P0u6oKe8bPOc"
      },
      "source": [
        "!pip install fa2 python-louvain"
      ],
      "execution_count": null,
      "outputs": []
    },
    {
      "cell_type": "code",
      "metadata": {
        "id": "jrZfY4FvbRrm"
      },
      "source": [
        "# load the basic packages\n",
        "import numpy as np\n",
        "import pandas as pd\n",
        "import networkx as nx\n",
        "import matplotlib.pyplot as plt\n",
        "import seaborn as sns"
      ],
      "execution_count": null,
      "outputs": []
    },
    {
      "cell_type": "markdown",
      "metadata": {
        "id": "SvLmghO2YisT"
      },
      "source": [
        "## Data collection and metric calculation (load previous results)"
      ]
    },
    {
      "cell_type": "markdown",
      "metadata": {
        "id": "AJnAMv5VbeRg"
      },
      "source": [
        "In this part, we need to get a proximity matrix or dataframe as the input of following steps. If you are doing your own research on some kind of spaces, you need to clean and transform your raw data, and assess the relatedness with a similarity or distance metric.\n",
        "\n",
        "Here we will use a pre-calculated proximity dataframe from the Atlas of Economic complexity. You can get this dataframe by following Matte's tutorial on Monday, or use the py-ecomplexity package."
      ]
    },
    {
      "cell_type": "code",
      "metadata": {
        "id": "m9UeStIkky0y"
      },
      "source": [
        "# load the precalculated proximity dataframe\n",
        "# you could load your own saved proximity data\n",
        "proxurl = 'http://intl-atlas-downloads.s3.amazonaws.com/atlas_2_16_6/hs92_proximities.csv'\n",
        "proxdf = pd.read_csv(proxurl,dtype={'commoditycode_1':str,'commoditycode_2':str,'proximity':float})\n",
        "proxdf.head()"
      ],
      "execution_count": null,
      "outputs": []
    },
    {
      "cell_type": "markdown",
      "metadata": {
        "id": "s8kxcfkPdEo9"
      },
      "source": [
        "Let's first examine the distribution of proximity metric, which helps us decide in extracting the informative parts."
      ]
    },
    {
      "cell_type": "code",
      "metadata": {
        "id": "mVnPGCUl5FfK"
      },
      "source": [
        "proxdf.proximity.plot.hist(bins=50)"
      ],
      "execution_count": null,
      "outputs": []
    },
    {
      "cell_type": "markdown",
      "metadata": {
        "id": "s0trJ_WdeegI"
      },
      "source": [
        "We observed that proximity is right-skewed. There are a few observations in the right tail with high proximity, which is good: we can cover the informative part without introducing many links."
      ]
    },
    {
      "cell_type": "markdown",
      "metadata": {
        "id": "t6NdoO3szkjE"
      },
      "source": [
        "Load the names of hs code so that we could use for annotation and analysis."
      ]
    },
    {
      "cell_type": "code",
      "metadata": {
        "id": "cfcc0ZCdzOcC"
      },
      "source": [
        "hsurl = 'http://intl-atlas-downloads.s3.amazonaws.com/17.0/hs_product.zip'\n",
        "hsdf = pd.read_csv(hsurl,compression='zip',dtype='str')\n",
        "hsdf.head()"
      ],
      "execution_count": null,
      "outputs": []
    },
    {
      "cell_type": "markdown",
      "metadata": {
        "id": "0JxJoYfLoH-Y"
      },
      "source": [
        "Let's only keep the product names used in the calculation of proximity:"
      ]
    },
    {
      "cell_type": "code",
      "metadata": {
        "id": "xafdtOqInlJ7"
      },
      "source": [
        "hsdf.hs_product_code.nunique(),proxdf.commoditycode_1.nunique()"
      ],
      "execution_count": null,
      "outputs": []
    },
    {
      "cell_type": "code",
      "metadata": {
        "id": "h0W0MwzZHB_B"
      },
      "source": [
        "nodedf = hsdf[hsdf.hs_product_code.isin(proxdf.commoditycode_1)][['hs_product_code','hs_product_name_short_en']].sort_values('hs_product_code').reset_index(drop=True)\n",
        "nodedf.head()"
      ],
      "execution_count": null,
      "outputs": []
    },
    {
      "cell_type": "markdown",
      "metadata": {
        "id": "sNLH3Lwzq_kx"
      },
      "source": [
        "### (Optional) visualize the raw proximity matrix"
      ]
    },
    {
      "cell_type": "markdown",
      "metadata": {
        "id": "ycmy9dT6pnUm"
      },
      "source": [
        "If your data is a proximity dataframe, you could transform it into a proxmity matrix using the pandas \"pivot\" function. The matrix format is sometimes faster for density calculation and other tasks. On the other hand, you could also get a proximity dataframe using pandas \"melt\" or other functions."
      ]
    },
    {
      "cell_type": "code",
      "metadata": {
        "id": "-FQoOAg-mqVk"
      },
      "source": [
        "proxmat = proxdf.pivot(index='commoditycode_1', columns='commoditycode_2',values='proximity').to_numpy()\n",
        "proxmat.shape"
      ],
      "execution_count": null,
      "outputs": []
    },
    {
      "cell_type": "markdown",
      "metadata": {
        "id": "4IVHUCQFqWye"
      },
      "source": [
        "You could visualize the proximity matrix directly using a heatmap. The natural sorting of product codes usually exhibits a block structure."
      ]
    },
    {
      "cell_type": "code",
      "metadata": {
        "id": "AKbGfMg1m63k"
      },
      "source": [
        "sns.heatmap(proxmat,cmap='viridis',square=True)"
      ],
      "execution_count": null,
      "outputs": []
    },
    {
      "cell_type": "markdown",
      "metadata": {
        "id": "ORv7yk3zbjOM"
      },
      "source": [
        "## Create graph and extract the backbone"
      ]
    },
    {
      "cell_type": "markdown",
      "metadata": {
        "id": "Vt65uGmJgP5X"
      },
      "source": [
        "Given the proximity dataframe or matrix, we could convert them into networkx object. By default, it will create an undirected network. We set the \"edge_attr\" as **True**, so every other columns in the dataframe are loaded as edge attributes:"
      ]
    },
    {
      "cell_type": "code",
      "metadata": {
        "id": "scHupvKirYte"
      },
      "source": [
        "fullgraph = nx.from_pandas_edgelist(proxdf,source='commoditycode_1',target='commoditycode_2',edge_attr=True)\n",
        "fullgraph.number_of_nodes(),fullgraph.number_of_edges()"
      ],
      "execution_count": null,
      "outputs": []
    },
    {
      "cell_type": "markdown",
      "metadata": {
        "id": "lQRilosTgiaI"
      },
      "source": [
        "Networkx provides the function to generate a minimum/maximum spanning tree, we will generate this using proximity values as the basic skeleton, which makes sure every nodes are connected."
      ]
    },
    {
      "cell_type": "code",
      "metadata": {
        "id": "4vyASJK02GYg"
      },
      "source": [
        "mst = nx.maximum_spanning_tree(fullgraph,weight='proximity')\n",
        "mst.number_of_edges()"
      ],
      "execution_count": null,
      "outputs": []
    },
    {
      "cell_type": "markdown",
      "metadata": {
        "id": "ZQ-5NXrJhZ7X"
      },
      "source": [
        "# Exercise 1\n",
        "\n",
        "Try a different threshold (other than 0.55) to create the network. Below is the previous code.\n",
        "\n",
        "\n",
        "```\n",
        "vizgraph = mst.copy()\n",
        "vizgraph.add_edges_from([(u,v,d) for u,v,d in fullgraph.edges(data=True) if d['proximity']>0.55])\n",
        "vizgraph.number_of_edges()\n",
        "```\n",
        "\n"
      ]
    },
    {
      "cell_type": "code",
      "metadata": {
        "id": "4r_-bM2I39l_"
      },
      "source": [
        "## put your code below\n",
        "\n"
      ],
      "execution_count": null,
      "outputs": []
    },
    {
      "cell_type": "code",
      "metadata": {
        "id": "t7UrNSNq4gQ3"
      },
      "source": [
        "nx.density(vizgraph)"
      ],
      "execution_count": null,
      "outputs": []
    },
    {
      "cell_type": "markdown",
      "metadata": {
        "id": "qxd65b8Obv5o"
      },
      "source": [
        "## Generate layout of the nodes"
      ]
    },
    {
      "cell_type": "markdown",
      "metadata": {
        "id": "jQ5kjnpGi_-q"
      },
      "source": [
        "Before we jump to the visualization of full network, let's check how the mst skeleton looks.\n",
        "\n",
        "Here we use the Kamada-Kawai algorithm to generate a layout, which generally works well for smaller networks:"
      ]
    },
    {
      "cell_type": "code",
      "metadata": {
        "id": "FpDOZOZYS9rT"
      },
      "source": [
        "position = nx.kamada_kawai_layout(mst)\n",
        "nx.draw(mst,pos=position,node_size=1)"
      ],
      "execution_count": null,
      "outputs": []
    },
    {
      "cell_type": "markdown",
      "metadata": {
        "id": "EzM4EFm9kCU8"
      },
      "source": [
        "The result already revealed some branches and clusters, we could use this layout as an initial position and speed up the generation of `vizgraph` layout.\n",
        "\n",
        "In this step, you would probably want to explore different layout algorithms, tune their parameters, and plot them until you get a satisfying position. Sometimes, it may require some manual adjustments before you finalize the layout."
      ]
    },
    {
      "cell_type": "markdown",
      "metadata": {
        "id": "NpCuCjnTiXkn"
      },
      "source": [
        "# Exercise 2\n",
        "\n",
        "Use another layout algorithm, such as the `sprint_layout` in networkx, and tune the parameters to generate a new usable layout.\n",
        "\n",
        "The available layout algorithms and their documents are here: https://networkx.org/documentation/stable/reference/drawing.html#module-networkx.drawing.layout"
      ]
    },
    {
      "cell_type": "code",
      "metadata": {
        "id": "pJd6TI_5_pyV"
      },
      "source": [
        "## put your code below, save the layout as \"position2\"\n"
      ],
      "execution_count": null,
      "outputs": []
    },
    {
      "cell_type": "markdown",
      "metadata": {
        "id": "w-BMtW5iOWsj"
      },
      "source": [
        "The position output is a dictionary, we could create a dataframe and merge it with the nodedf for future use."
      ]
    },
    {
      "cell_type": "code",
      "metadata": {
        "id": "PDxKsrWEHR43"
      },
      "source": [
        "nodedf = nodedf.merge(\n",
        "    pd.DataFrame.from_dict(position2,orient='index',columns=['x','y']),\n",
        "    how='left',\n",
        "    left_on='hs_product_code',\n",
        "    right_index=True\n",
        ")\n",
        "nodedf.head()"
      ],
      "execution_count": null,
      "outputs": []
    },
    {
      "cell_type": "markdown",
      "metadata": {
        "id": "bFplMhp-b6us"
      },
      "source": [
        "## Community detection"
      ]
    },
    {
      "cell_type": "markdown",
      "metadata": {
        "id": "gilzTktxoh7z"
      },
      "source": [
        "We would like to extract more meso-scale structural information out of this network representation, one option is to extract the community structure that reveal the block structure we saw in matrix plot.\n",
        "\n",
        "There are a number of community detection algorithms. The Louvain algorithm is one of the most widely used solution, and the python implementation is here: https://python-louvain.readthedocs.io/en/latest/api.html"
      ]
    },
    {
      "cell_type": "code",
      "metadata": {
        "id": "-mYbnQXHRshj"
      },
      "source": [
        "import community as community_louvain\n",
        "partition = community_louvain.best_partition(vizgraph,weight='proximity',resolution=1,random_state=42)\n",
        "max(partition.values()) + 1"
      ],
      "execution_count": null,
      "outputs": []
    },
    {
      "cell_type": "markdown",
      "metadata": {
        "id": "pcglaPXavlP5"
      },
      "source": [
        "The `partition` object is a dictionary that sequentially maps each nodes to the community id. We could also merge it to the nodedf dataframe for further analysis."
      ]
    },
    {
      "cell_type": "code",
      "metadata": {
        "id": "W0XyONpNX0E5"
      },
      "source": [
        "nodedf = nodedf.merge(\n",
        "    pd.DataFrame.from_dict(partition,orient='index',columns=['communityid']),\n",
        "    how='left',\n",
        "    left_on='hs_product_code',\n",
        "    right_index=True\n",
        ")\n",
        "nodedf.head()"
      ],
      "execution_count": null,
      "outputs": []
    },
    {
      "cell_type": "markdown",
      "metadata": {
        "id": "bDBOdRsMwIC8"
      },
      "source": [
        "Using pandas, we could check the size of each communities:"
      ]
    },
    {
      "cell_type": "code",
      "metadata": {
        "id": "i7x0EBjNwTIw"
      },
      "source": [
        "nodedf.communityid.value_counts()"
      ],
      "execution_count": null,
      "outputs": []
    },
    {
      "cell_type": "markdown",
      "metadata": {
        "id": "FepEGaiXxQZr"
      },
      "source": [
        "For each community, we could check the included products to understand its meaning.\n",
        "\n",
        "For example, community 6 is a cluster of garments and textile products"
      ]
    },
    {
      "cell_type": "code",
      "metadata": {
        "id": "WU6FfoM2x5RY"
      },
      "source": [
        "nodedf.query('communityid == 6').sample(15)"
      ],
      "execution_count": null,
      "outputs": []
    },
    {
      "cell_type": "markdown",
      "metadata": {
        "id": "bP5_Yzea1b2r"
      },
      "source": [
        "Rearrange the rows and columns in matrix plot, we see a clearer block structure"
      ]
    },
    {
      "cell_type": "code",
      "metadata": {
        "id": "M_2B9uUT1jqe"
      },
      "source": [
        "idx = np.argsort(nodedf.communityid)\n",
        "proxmat2 = proxmat[:,idx][idx]\n",
        "sns.heatmap(proxmat2,cmap='viridis',square=True)"
      ],
      "execution_count": null,
      "outputs": []
    },
    {
      "cell_type": "markdown",
      "metadata": {
        "id": "HQcz1VeGxErO"
      },
      "source": [
        "## Mapping properties to aesthetic elements"
      ]
    },
    {
      "cell_type": "markdown",
      "metadata": {
        "id": "4DqqbQQ72Htv"
      },
      "source": [
        "Once we have fixed the position of nodes in the network, the aesthetic elements we could use are mainy the color and size of the nodes. Different shapes of the nodes are not very distinguishable with >1000 nodes, and labels are only usable to annotate few nodes/sectors/communities."
      ]
    },
    {
      "cell_type": "markdown",
      "metadata": {
        "id": "DKSHKR6iNHUI"
      },
      "source": [
        "In this section, we will use a saved output from running the py-ecomplexity package on 2015 HS 4-digit trade data:"
      ]
    },
    {
      "cell_type": "code",
      "metadata": {
        "id": "hs-BrdTR4Yj_"
      },
      "source": [
        "df_ec = pd.read_parquet('https://github.com/complexly/summerschool_viz/raw/main/df_ec.parquet')\n",
        "df_ec.head()"
      ],
      "execution_count": null,
      "outputs": []
    },
    {
      "cell_type": "markdown",
      "metadata": {
        "id": "UnLKtMALFJjE"
      },
      "source": [
        "### Color"
      ]
    },
    {
      "cell_type": "markdown",
      "metadata": {
        "id": "gtrkQLvnD02z"
      },
      "source": [
        "The color of the nodes are usually used to indicate different categories, such as 2-digit sectors or the communities we discovered above.\n",
        "\n",
        "A meaningful color map usually require some manual design, such as using brown to represent mining activities and products. Here we would just assign a color to each commmunity from the rainbow color pallette, without further improvement."
      ]
    },
    {
      "cell_type": "code",
      "metadata": {
        "id": "vHeEgBdA3bM8"
      },
      "source": [
        "from matplotlib import colors\n",
        "# use the gist_rainbow colormap\n",
        "cm = plt.get_cmap('gist_rainbow')\n",
        "# map each communityid to a color, the output is an rgba array for each node \n",
        "colorarray = cm([x/nodedf.communityid.nunique() for x in nodedf.communityid])\n",
        "# convert the rgba array into a hex string, and store the result into the nodedf dataframe\n",
        "nodedf['color'] = np.apply_along_axis(colors.to_hex, 1, colorarray)\n",
        "nodedf.sample(5)"
      ],
      "execution_count": null,
      "outputs": []
    },
    {
      "cell_type": "markdown",
      "metadata": {
        "id": "YtoM4wMVGCd8"
      },
      "source": [
        "Now let's use this color to make a plot. The `node_color` parameter accepts rgba array or hex string for each nodes, which we generated above and already in the correct order."
      ]
    },
    {
      "cell_type": "code",
      "metadata": {
        "id": "a0MBAgTNaXrj"
      },
      "source": [
        "plt.figure(figsize=(14,8))\n",
        "nx.draw(vizgraph,pos=position2,node_size=5,node_color=nodedf.color,edge_color='lightgrey')"
      ],
      "execution_count": null,
      "outputs": []
    },
    {
      "cell_type": "markdown",
      "metadata": {
        "id": "h3Q1HC82Nv8N"
      },
      "source": [
        "### Size"
      ]
    },
    {
      "cell_type": "markdown",
      "metadata": {
        "id": "_TDUAIcENzZW"
      },
      "source": [
        "# Exercise 3\n",
        "\n",
        "Use the node size to represent the logged total trade volume of a product, which is the \"log_export_value\" columns in the `nodedf` dataframe."
      ]
    },
    {
      "cell_type": "code",
      "metadata": {
        "id": "uMNFaRDXMo01"
      },
      "source": [
        "nodedf = nodedf.merge(\n",
        "    df_ec.groupby('hs_product_code')['export_value'].sum(),\n",
        "    how='left',\n",
        "    on='hs_product_code'\n",
        ")\n",
        "nodedf.head()"
      ],
      "execution_count": null,
      "outputs": []
    },
    {
      "cell_type": "code",
      "metadata": {
        "id": "DgZ2RgjAlko9"
      },
      "source": [
        "nodedf['log_export_value'] = np.log(nodedf['export_value'])\n",
        "nodedf.log_export_value.describe()"
      ],
      "execution_count": null,
      "outputs": []
    },
    {
      "cell_type": "code",
      "metadata": {
        "id": "gjMnCqk8Qm-T"
      },
      "source": [
        "## put your code below: calcuate the nodesize and plot the network\n"
      ],
      "execution_count": null,
      "outputs": []
    },
    {
      "cell_type": "markdown",
      "metadata": {
        "id": "cqzBfeXNVKQN"
      },
      "source": [
        "### Annotation"
      ]
    },
    {
      "cell_type": "markdown",
      "metadata": {
        "id": "VAVZwKNHVMOg"
      },
      "source": [
        "Sometimes we would like to add some annotations to the product space visualization. Here we will add the communityid to the center of each community."
      ]
    },
    {
      "cell_type": "code",
      "metadata": {
        "id": "kIU5jQ27VebK"
      },
      "source": [
        "df_annotation = nodedf.groupby('communityid')[['x','y']].mean().reset_index()\n",
        "df_annotation.head()"
      ],
      "execution_count": null,
      "outputs": []
    },
    {
      "cell_type": "code",
      "metadata": {
        "id": "vg6058OwVsX7"
      },
      "source": [
        "plt.figure(figsize=(14,8))\n",
        "nx.draw(vizgraph,\n",
        "        pos=position2,\n",
        "        node_size=nodedf.nodesize,\n",
        "        node_color=nodedf.color,\n",
        "        edge_color='lightgrey',\n",
        "        edgecolors='grey')\n",
        "for i, point in df_annotation.iterrows():\n",
        "        plt.annotate(point['communityid'],(point['x'], point['y']),fontsize=15)"
      ],
      "execution_count": null,
      "outputs": []
    },
    {
      "cell_type": "markdown",
      "metadata": {
        "id": "T7r7IxhEU1jp"
      },
      "source": [
        "### Region specific plot"
      ]
    },
    {
      "cell_type": "markdown",
      "metadata": {
        "id": "t9bwJ7FBVGSL"
      },
      "source": [
        "# Exercise 4\n",
        "\n",
        "Plot the product highlighting where Ukraine (location code: UKR) has comparative advantage."
      ]
    },
    {
      "cell_type": "code",
      "metadata": {
        "id": "z8OHjmnZTVdq"
      },
      "source": [
        "# put your code below\n"
      ],
      "execution_count": null,
      "outputs": []
    }
  ]
}